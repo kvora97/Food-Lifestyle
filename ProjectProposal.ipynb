{
 "cells": [
  {
   "cell_type": "markdown",
   "metadata": {},
   "source": [
    "# COGS 108 - Project Proposal"
   ]
  },
  {
   "cell_type": "markdown",
   "metadata": {},
   "source": [
    "## Important\n",
    "\n",
    "- Make sure all group members (3-5 people) are listed in the group members section.\n",
    "- ONE, and only one, member of your group should upload this notebook to TritonED. \n",
    "- Each member of the group will receive the same grade on this assignment. \n",
    "- Keep the file name the same: submit the file 'ProjectProposal.ipynb'"
   ]
  },
  {
   "cell_type": "markdown",
   "metadata": {},
   "source": [
    "## Overview"
   ]
  },
  {
   "cell_type": "markdown",
   "metadata": {},
   "source": [
    "Read the project description and detailed instructions for this assignment in the 'ProjectOutline' document."
   ]
  },
  {
   "cell_type": "markdown",
   "metadata": {},
   "source": [
    "## Group Members: Fill in the Student IDs of each group member here\n",
    "\n",
    "Replace the lines below to list each persons full student ID. Add lines as needed for your group size, and make sure each ID is listed on a separate line. \n",
    "\n",
    "A12753038\n",
    "\n",
    "A92124709\n",
    "\n",
    "A12398042\n",
    "\n",
    "A14233859"
   ]
  },
  {
   "cell_type": "markdown",
   "metadata": {},
   "source": [
    "### Research Question\n",
    "\n",
    "What is your research question? (1-2 sentences)"
   ]
  },
  {
   "cell_type": "markdown",
   "metadata": {},
   "source": [
    "In what ways does a college student’s diet and perception of food inform their academic performance and general quality of life? Does one’s perception of food and a good diet change with that person’s academic performance in college? I.e. do higher performing students exhibit different attitudes towards food and diet?\n"
   ]
  },
  {
   "cell_type": "markdown",
   "metadata": {},
   "source": [
    "### Hypothesis\n",
    "\n",
    "What is your main hypothesis and predictions? (2-3 sentences)"
   ]
  },
  {
   "cell_type": "markdown",
   "metadata": {},
   "source": [
    "We hypothesize that students who tend to favor healthier food choices will likely perform better than those who do not. Furthermore, we believe that those who self-report themselves as happy, well-adjusted individuals will be more likely to have a healthier diet."
   ]
  },
  {
   "cell_type": "markdown",
   "metadata": {},
   "source": [
    "### Dataset(s)\n",
    "\n",
    "What data will you use to answer your question? Describe the dataset(s) in terms of number of observations, what kind of features it contains, etc. You must use at least one dataset containing at least approximately 1000 observations (if your data are smaller but you feel they are sufficient, email Prof. Voytek). You are welcome (and in fact recommended) to find multiple datasets! If you do so, describe each one, and briefly explain how you will combine them together. "
   ]
  },
  {
   "cell_type": "markdown",
   "metadata": {},
   "source": [
    "Dataset Name: Food Choices\n",
    "\n",
    "Link to the dataset: https://www.kaggle.com/borapajo/food-choices/data\n",
    "\n",
    "Number of observations: 126 (with Professor Voytek’s approval)\n",
    "\n",
    "This dataset includes information on food choices, nutrition, preferences,  GPA, self-reported happiness, self-reported body image, parental information (income, education level, profession), and perception of different types of foods.. \n"
   ]
  },
  {
   "cell_type": "markdown",
   "metadata": {},
   "source": [
    "### Background and Prior Work\n",
    "\n",
    "Why is this question of interest, what background information led you to your hypothesis, and why is this important?\n",
    "\n",
    "Find some relevant prior work, and reference those sources. Even if you think you have a totally novel question, find the most similar prior work that you can and discuss how it relates to your project. \n",
    "\n",
    "References can be research publications, but they need not be. Blogs, github repositories, company websites, etc., are all viable references if they are relevant to your project.\n",
    "\n",
    "(2-3 paragraphs, including at least 2 references)"
   ]
  },
  {
   "cell_type": "markdown",
   "metadata": {},
   "source": [
    "This question is interesting because it applies directly to us as college students. By potentially identifying certain characteristics of diets that promote better living, we allow ourselves and others to make more informed choices about the food we eat. This dataset is also a source of interest, as the feature set is very rich and varied. Such a rich amount of features can let us discover potential correlations between student eating habits not only to GPA, but also to more interesting features such as happiness, nationality, and more.\n",
    "\n",
    "Prior work and studies that have examined the relation between a student’s academic performance and diet have generally noted that those with healthier diets and generally more active lifestyle perform well academically in comparison to their peers. The factor with most impact from those related to diet is having a healthy breakfast, it has consistently shown to boost mood. Research suggests that diets high in trans and saturated fats can negatively impact learning and memory. These nutritional deficiencies impact cognitive development especially in concentration and energy levels. Previous studies on college students have concluded that college students in general do not care about eating a daily breakfast and that their diets commonly consist of cheap and quick meals. These are all factors which contribute to weight gain and emotional strain. This is something that we will want to explore and verify with our data.\n",
    "\n",
    "\n",
    "References (links):\n",
    "\n",
    "1. https://files.eric.ed.gov/fulltext/EJ876514.pdf\n",
    "\n",
    "2. http://heragenda.com/college-students-heres-how-the-food-you-eat-impacts-your-performance/\n",
    "\n",
    "3. https://www.wilder.org/Wilder-Research/Publications/Studies/Fueling%20Academic%20Performance%20-%20Strategies%20to%20Foster%20Healthy%20Eating%20Among%20Students/Nutrition%20and%20Students'%20Academic%20Performance.pdf\n",
    "\n",
    "4. https://www.omicsonline.org/open-access/the-perception-of-college-students-about-a-healthy-lifestyle-and-its-effect-on-their-health-2155-9600-1000437.php?aid=63506\n"
   ]
  },
  {
   "cell_type": "markdown",
   "metadata": {},
   "source": [
    "### Proposed Methods\n",
    "\n",
    "What methods will you use to analyze your data?\n",
    "\n",
    "- How 'clean' is the data? To the extent that it requires cleaning, how will you do so?\n",
    "- How will you analyze the data? Be as specific as you can. Briefly mention any pre-processing steps that are required for your methods (for example, checking data distributions and performing any transformations that may be required). Include a brief outline of how you will apply your chosen method(s). \n",
    "- What do you plan to report? Briefly mention any key visualizations you plan to create, and/or the kind of results you will be able to report that address your question (this could be, for example, the outcome of some statistical test(s), prediction error on a model, a model fit parameter, etc.).\n",
    "- Include a list of packages you expect to use for you project. If you plan to use packages we have not used in class, add a very brief description about them (a few words is sufficient). "
   ]
  },
  {
   "cell_type": "markdown",
   "metadata": {},
   "source": [
    "\n",
    "Data Cleaning (2-3 sentences):\n",
    "\n",
    "Since this is a very feature rich dataset, there are several columns that are redundant or inapplicable to our analyses, and we would have to remove these. Many of the columns contain natural language responses, which will need to be cleaned, tokenized, and processed with an NLP pipeline, for which we can use sklearn’s text extraction package. We will also have to deal with missing and incomplete data. For continuous values, we can infer missing data with polynomial regression, but for missing categorical data, we will likely have to discard that row for that particular analysis.\n",
    "\n",
    "Data Analysis (1-2 paragraphs):\n",
    "\n",
    "In order to perform analyses on our data set, we much first gather a general idea of the shape and characteristics of the data. To this end, we plan to first visualize our data with scatter plots to ensure that issues such as outliers and excessive clustering can be addressed. For example, this may reveal that certain variables may have tiny variances, and so for those features, a logarithmic transformation would be appropriate. The bulk of our analysis will be to identify strong correlations between features. For this we can leverage the Pearson correlation coefficient matrix, which measures linear correlation between two variables. We can confirm the correlations by calculating Spearman and Kendall correlations and confirming our discovered relationships.\n",
    "\n",
    "Lots of our data is in the form of natural language, so sentiment analysis will be a necessary part of our pipeline. To extract workable data from natural text, we can use a count vectorizer, a TF-IDF (term frequency - inverse term frequency) vectorizer, or the classical word2vec model to create an actionable matrix from our text, on which we can run sentiment analysis algorithms. One option is using a pre-trained machine learning model to get around the issue of not having much training data. Once we have our natural language in vector space, we can feed these into our correlation analyses as well to see if positive or negative sentiments are influential to other features.\n",
    "\n",
    "What to report:\n",
    "\n",
    "Visualizations that we want to include to accurately capture the results of our analysis include plots which will help determine correlations among our features. Our results will also include which features that we find best correlate with a person’s diet as well as academic performance. We will verify our correlation results using a t-test and given that we will be to verify what we had stated in our hypothesis and determine which variables are of highest influence.\n",
    "\n",
    "Packages we plan to use:\n",
    "\n",
    "1. numpy\n",
    "2. scipy\n",
    "3. matplotlib\n",
    "4. pandas\n",
    "5. sklearn\n",
    "6. Convolutional Recurrent Neural Subnetworks\n"
   ]
  },
  {
   "cell_type": "markdown",
   "metadata": {},
   "source": [
    "### Ethics and Privacy\n",
    "\n",
    "Briefly acknowledge and address any potential issues of ethics and privacy for the proposed project. In particular:\n",
    "- Do you have permission to use this data, for this purpose?\n",
    "- Are there privacy concerns regarding your datasets that you need to deal with, and/or terms of use that you need to comply with?\n",
    "- Are there potential biases in your dataset(s), in terms of who it composes, and how it was collected, that may be problematic in terms of it allowing for equitable analysis? (For example, does your data exclude particular populations, or is it likely to reflect particular human biases in a way that could be a problem?) \n",
    "- Are there any other issues related to your topic area, data, and/or analyses that are potentially problematic in terms of data privacy and equitable impact?\n",
    "- How will you handle any issues you identify?\n",
    "\n",
    "(1-2 paragraphs)"
   ]
  },
  {
   "cell_type": "markdown",
   "metadata": {},
   "source": [
    "Yes, we plan to use a publicly available dataset from an online platform where numerous datasets are made available for the public to practice on. Since we chose the dataset from Kaggle where it is made publicly available and the responses are anonymous, we are free to use it without worrying about acquiring any permissions.\n",
    "\n",
    "In order to resolve any future issues, we aim to seek advice from professor and the instructional staff if we are unable to resolve it among ourselves. Since the dataset we chose is small, the data is probably collected from one place/college and that would slightly deviate the overall results we obtain. That would potentially prevent us from performing some more advanced analyses because of the lack of a sizeable dataset.\n"
   ]
  },
  {
   "cell_type": "markdown",
   "metadata": {},
   "source": [
    "### Discussion\n",
    "\n",
    "Discuss your project, looking forward to what your results might mean, how they fit it in with what is already known, and what problems you may encounter. \n",
    "\n",
    "In particular:\n",
    "- If your analyses and hypotheses are correct, what will be the contribution of this project to the topic domain? \n",
    "- Alternatively, what will you do if you methods don't work and/or your hypotheses are wrong? \n",
    "- What are the potential pitfalls and potential confounds of your data and/or methods that may cause problems, and/or influence your interpretations?\n",
    "\n",
    "(2-3 paragraphs)"
   ]
  },
  {
   "cell_type": "markdown",
   "metadata": {},
   "source": [
    "Health is a big part of the overall picture when it comes to the quality of life of an individual. In the United States, many young adults leave their home and start an independent life upon college admission. During this period, college students are learning to make their own decisions. Hence this will help colleges and students make better food choices to increase overall quality of life. On the contrary, the analyses may also help us detect and rectify any incorrect assumptions people have about diet (eg. you should eat whatever you can in college to survive while spending minimal income). If our analyses ends up proving our hypothesis wrong, we will brainstorm ideas and see what went wrong and how we can find a better/larger dataset and confirm whether the analyses of the new dataset matches what we discovered in the original dataset.\n",
    "\n",
    "One of the potential pitfalls of the dataset that we have chosen is that it does not have too much data that would help us to perform analyses that would be accurate for a very large population. Since the dataset seems to represent students from a single town or university, it might not be completely representative of student habits in general. For example, the data might be aligned in a particular way because it could have been collected from a place that is very cold, food is cheap and average income is high. This might affect their habits and choices compared to students who live in places where the climate is warm and sunny, the food is expensive and average income is low.\n"
   ]
  }
 ],
 "metadata": {
  "kernelspec": {
   "display_name": "Python 3",
   "language": "python",
   "name": "python3"
  },
  "language_info": {
   "codemirror_mode": {
    "name": "ipython",
    "version": 3
   },
   "file_extension": ".py",
   "mimetype": "text/x-python",
   "name": "python",
   "nbconvert_exporter": "python",
   "pygments_lexer": "ipython3",
   "version": "3.5.0"
  }
 },
 "nbformat": 4,
 "nbformat_minor": 2
}
